{
 "cells": [
  {
   "cell_type": "code",
   "execution_count": 1,
   "metadata": {},
   "outputs": [],
   "source": [
    "import torch\n",
    "import torchvision\n",
    "import torchvision.transforms as transforms"
   ]
  },
  {
   "cell_type": "code",
   "execution_count": 2,
   "metadata": {},
   "outputs": [
    {
     "name": "stdout",
     "output_type": "stream",
     "text": [
      "Downloading http://yann.lecun.com/exdb/mnist/train-images-idx3-ubyte.gz\n",
      "Failed to download (trying next):\n",
      "HTTP Error 403: Forbidden\n",
      "\n",
      "Downloading https://ossci-datasets.s3.amazonaws.com/mnist/train-images-idx3-ubyte.gz\n",
      "Downloading https://ossci-datasets.s3.amazonaws.com/mnist/train-images-idx3-ubyte.gz to ./data\\MNIST\\raw\\train-images-idx3-ubyte.gz\n"
     ]
    },
    {
     "name": "stderr",
     "output_type": "stream",
     "text": [
      "100.0%\n"
     ]
    },
    {
     "name": "stdout",
     "output_type": "stream",
     "text": [
      "Extracting ./data\\MNIST\\raw\\train-images-idx3-ubyte.gz to ./data\\MNIST\\raw\n",
      "\n",
      "Downloading http://yann.lecun.com/exdb/mnist/train-labels-idx1-ubyte.gz\n",
      "Failed to download (trying next):\n",
      "HTTP Error 403: Forbidden\n",
      "\n",
      "Downloading https://ossci-datasets.s3.amazonaws.com/mnist/train-labels-idx1-ubyte.gz\n",
      "Downloading https://ossci-datasets.s3.amazonaws.com/mnist/train-labels-idx1-ubyte.gz to ./data\\MNIST\\raw\\train-labels-idx1-ubyte.gz\n"
     ]
    },
    {
     "name": "stderr",
     "output_type": "stream",
     "text": [
      "100.0%\n"
     ]
    },
    {
     "name": "stdout",
     "output_type": "stream",
     "text": [
      "Extracting ./data\\MNIST\\raw\\train-labels-idx1-ubyte.gz to ./data\\MNIST\\raw\n",
      "\n",
      "Downloading http://yann.lecun.com/exdb/mnist/t10k-images-idx3-ubyte.gz\n",
      "Failed to download (trying next):\n",
      "HTTP Error 403: Forbidden\n",
      "\n",
      "Downloading https://ossci-datasets.s3.amazonaws.com/mnist/t10k-images-idx3-ubyte.gz\n",
      "Downloading https://ossci-datasets.s3.amazonaws.com/mnist/t10k-images-idx3-ubyte.gz to ./data\\MNIST\\raw\\t10k-images-idx3-ubyte.gz\n"
     ]
    },
    {
     "name": "stderr",
     "output_type": "stream",
     "text": [
      "100.0%\n"
     ]
    },
    {
     "name": "stdout",
     "output_type": "stream",
     "text": [
      "Extracting ./data\\MNIST\\raw\\t10k-images-idx3-ubyte.gz to ./data\\MNIST\\raw\n",
      "\n",
      "Downloading http://yann.lecun.com/exdb/mnist/t10k-labels-idx1-ubyte.gz\n",
      "Failed to download (trying next):\n",
      "HTTP Error 403: Forbidden\n",
      "\n",
      "Downloading https://ossci-datasets.s3.amazonaws.com/mnist/t10k-labels-idx1-ubyte.gz\n",
      "Downloading https://ossci-datasets.s3.amazonaws.com/mnist/t10k-labels-idx1-ubyte.gz to ./data\\MNIST\\raw\\t10k-labels-idx1-ubyte.gz\n"
     ]
    },
    {
     "name": "stderr",
     "output_type": "stream",
     "text": [
      "100.0%"
     ]
    },
    {
     "name": "stdout",
     "output_type": "stream",
     "text": [
      "Extracting ./data\\MNIST\\raw\\t10k-labels-idx1-ubyte.gz to ./data\\MNIST\\raw\n",
      "\n"
     ]
    },
    {
     "name": "stderr",
     "output_type": "stream",
     "text": [
      "\n"
     ]
    }
   ],
   "source": [
    "transform = transforms.ToTensor()\n",
    "\n",
    "trainset = torchvision.datasets.MNIST(\n",
    "    root='./data',\n",
    "    train=False, \n",
    "    download=True,\n",
    "    transform=transform\n",
    ")"
   ]
  },
  {
   "cell_type": "code",
   "execution_count": 3,
   "metadata": {},
   "outputs": [
    {
     "name": "stdout",
     "output_type": "stream",
     "text": [
      "10000\n",
      "torch.Size([1, 28, 28]) 7\n"
     ]
    },
    {
     "data": {
      "text/plain": [
       "<matplotlib.image.AxesImage at 0x256612ed2b0>"
      ]
     },
     "execution_count": 3,
     "metadata": {},
     "output_type": "execute_result"
    },
    {
     "data": {
      "image/png": "[encoded data removed]",
      "text/plain": [
       "<Figure size 640x480 with 1 Axes>"
      ]
     },
     "metadata": {},
     "output_type": "display_data"
    }
   ],
   "source": [
    "from matplotlib import pyplot as plt\n",
    "\n",
    "\n",
    "print(len(trainset))\n",
    "print(trainset[0][0].shape, trainset[0][1])\n",
    "plt.imshow(trainset[0][0][0], cmap='gray')"
   ]
  },
  {
   "cell_type": "code",
   "execution_count": 4,
   "metadata": {},
   "outputs": [],
   "source": [
    "from torch.utils.data import Subset\n",
    "from torch.utils.data import DataLoader, Subset\n",
    "from torchvision import datasets, transforms\n",
    "\n",
    "# 데이터셋 크기 확인\n",
    "dataset_size = len(trainset) \n",
    "\n",
    "batch_size = 64\n",
    "# 훈련과 검증 인덱스 설정 (전체 크기 내에서 설정)\n",
    "split_point = int(0.8 * dataset_size)  # 80%를 훈련용, 20%를 검증용으로 나눔\n",
    "train_indices = list(range(split_point))  # 0부터 split_point-1까지\n",
    "test_indices = list(range(split_point, dataset_size))  # split_point부터 끝까지\n",
    "\n",
    "# Subset을 사용하여 훈련 및 검증 데이터셋 나누기\n",
    "train_dataset = Subset(trainset, train_indices)\n",
    "test_dataset = Subset(trainset, test_indices)\n",
    "\n",
    "# DataLoader로 배치 처리\n",
    "trainloader = DataLoader(train_dataset, batch_size=batch_size, shuffle=True)\n",
    "testloader = DataLoader(test_dataset, batch_size=batch_size, shuffle=False)"
   ]
  },
  {
   "cell_type": "code",
   "execution_count": 5,
   "metadata": {},
   "outputs": [
    {
     "name": "stdout",
     "output_type": "stream",
     "text": [
      "torch.Size([64, 1, 28, 28]) torch.Size([64])\n"
     ]
    }
   ],
   "source": [
    "dataiter = iter(trainloader)\n",
    "images, labels = next(dataiter)\n",
    "print(images.shape, labels.shape)"
   ]
  },
  {
   "cell_type": "code",
   "execution_count": 6,
   "metadata": {},
   "outputs": [
    {
     "name": "stdout",
     "output_type": "stream",
     "text": [
      "Epoch [1/100], Loss: 2.3265, Accuracy: 7.81%\n",
      "Epoch [2/100], Loss: 2.2856, Accuracy: 10.94%\n",
      "Epoch [3/100], Loss: 2.2458, Accuracy: 15.62%\n",
      "Epoch [4/100], Loss: 2.2068, Accuracy: 20.31%\n",
      "Epoch [5/100], Loss: 2.1687, Accuracy: 28.12%\n",
      "Epoch [6/100], Loss: 2.1314, Accuracy: 34.38%\n",
      "Epoch [7/100], Loss: 2.0949, Accuracy: 40.62%\n",
      "Epoch [8/100], Loss: 2.0590, Accuracy: 43.75%\n",
      "Epoch [9/100], Loss: 2.0237, Accuracy: 50.00%\n",
      "Epoch [10/100], Loss: 1.9890, Accuracy: 59.38%\n",
      "Epoch [11/100], Loss: 1.9549, Accuracy: 60.94%\n",
      "Epoch [12/100], Loss: 1.9213, Accuracy: 68.75%\n",
      "Epoch [13/100], Loss: 1.8882, Accuracy: 75.00%\n",
      "Epoch [14/100], Loss: 1.8557, Accuracy: 81.25%\n",
      "Epoch [15/100], Loss: 1.8236, Accuracy: 81.25%\n",
      "Epoch [16/100], Loss: 1.7919, Accuracy: 84.38%\n",
      "Epoch [17/100], Loss: 1.7607, Accuracy: 87.50%\n",
      "Epoch [18/100], Loss: 1.7299, Accuracy: 89.06%\n",
      "Epoch [19/100], Loss: 1.6995, Accuracy: 92.19%\n",
      "Epoch [20/100], Loss: 1.6695, Accuracy: 92.19%\n",
      "Epoch [21/100], Loss: 1.6399, Accuracy: 92.19%\n",
      "Epoch [22/100], Loss: 1.6107, Accuracy: 92.19%\n",
      "Epoch [23/100], Loss: 1.5818, Accuracy: 92.19%\n",
      "Epoch [24/100], Loss: 1.5534, Accuracy: 93.75%\n",
      "Epoch [25/100], Loss: 1.5253, Accuracy: 95.31%\n",
      "Epoch [26/100], Loss: 1.4976, Accuracy: 95.31%\n",
      "Epoch [27/100], Loss: 1.4702, Accuracy: 96.88%\n",
      "Epoch [28/100], Loss: 1.4433, Accuracy: 96.88%\n",
      "Epoch [29/100], Loss: 1.4167, Accuracy: 96.88%\n",
      "Epoch [30/100], Loss: 1.3904, Accuracy: 96.88%\n",
      "Epoch [31/100], Loss: 1.3646, Accuracy: 96.88%\n",
      "Epoch [32/100], Loss: 1.3391, Accuracy: 98.44%\n",
      "Epoch [33/100], Loss: 1.3139, Accuracy: 98.44%\n",
      "Epoch [34/100], Loss: 1.2892, Accuracy: 98.44%\n",
      "Epoch [35/100], Loss: 1.2648, Accuracy: 98.44%\n",
      "Epoch [36/100], Loss: 1.2407, Accuracy: 98.44%\n",
      "Epoch [37/100], Loss: 1.2170, Accuracy: 98.44%\n",
      "Epoch [38/100], Loss: 1.1936, Accuracy: 98.44%\n",
      "Epoch [39/100], Loss: 1.1707, Accuracy: 98.44%\n",
      "Epoch [40/100], Loss: 1.1480, Accuracy: 98.44%\n",
      "Epoch [41/100], Loss: 1.1258, Accuracy: 100.00%\n",
      "Epoch [42/100], Loss: 1.1039, Accuracy: 100.00%\n",
      "Epoch [43/100], Loss: 1.0824, Accuracy: 100.00%\n",
      "Epoch [44/100], Loss: 1.0612, Accuracy: 100.00%\n",
      "Epoch [45/100], Loss: 1.0404, Accuracy: 100.00%\n",
      "Epoch [46/100], Loss: 1.0200, Accuracy: 100.00%\n",
      "Epoch [47/100], Loss: 0.9999, Accuracy: 100.00%\n",
      "Epoch [48/100], Loss: 0.9802, Accuracy: 100.00%\n",
      "Epoch [49/100], Loss: 0.9608, Accuracy: 100.00%\n",
      "Epoch [50/100], Loss: 0.9418, Accuracy: 100.00%\n",
      "Epoch [51/100], Loss: 0.9232, Accuracy: 100.00%\n",
      "Epoch [52/100], Loss: 0.9048, Accuracy: 100.00%\n",
      "Epoch [53/100], Loss: 0.8869, Accuracy: 100.00%\n",
      "Epoch [54/100], Loss: 0.8693, Accuracy: 100.00%\n",
      "Epoch [55/100], Loss: 0.8520, Accuracy: 100.00%\n",
      "Epoch [56/100], Loss: 0.8351, Accuracy: 100.00%\n",
      "Epoch [57/100], Loss: 0.8185, Accuracy: 100.00%\n",
      "Epoch [58/100], Loss: 0.8023, Accuracy: 100.00%\n",
      "Epoch [59/100], Loss: 0.7864, Accuracy: 100.00%\n",
      "Epoch [60/100], Loss: 0.7708, Accuracy: 100.00%\n",
      "Epoch [61/100], Loss: 0.7555, Accuracy: 100.00%\n",
      "Epoch [62/100], Loss: 0.7406, Accuracy: 100.00%\n",
      "Epoch [63/100], Loss: 0.7260, Accuracy: 100.00%\n",
      "Epoch [64/100], Loss: 0.7116, Accuracy: 100.00%\n",
      "Epoch [65/100], Loss: 0.6977, Accuracy: 100.00%\n",
      "Epoch [66/100], Loss: 0.6840, Accuracy: 100.00%\n",
      "Epoch [67/100], Loss: 0.6706, Accuracy: 100.00%\n",
      "Epoch [68/100], Loss: 0.6575, Accuracy: 100.00%\n",
      "Epoch [69/100], Loss: 0.6447, Accuracy: 100.00%\n",
      "Epoch [70/100], Loss: 0.6322, Accuracy: 100.00%\n",
      "Epoch [71/100], Loss: 0.6200, Accuracy: 100.00%\n",
      "Epoch [72/100], Loss: 0.6080, Accuracy: 100.00%\n",
      "Epoch [73/100], Loss: 0.5963, Accuracy: 100.00%\n",
      "Epoch [74/100], Loss: 0.5849, Accuracy: 100.00%\n",
      "Epoch [75/100], Loss: 0.5737, Accuracy: 100.00%\n",
      "Epoch [76/100], Loss: 0.5629, Accuracy: 100.00%\n",
      "Epoch [77/100], Loss: 0.5522, Accuracy: 100.00%\n",
      "Epoch [78/100], Loss: 0.5418, Accuracy: 100.00%\n",
      "Epoch [79/100], Loss: 0.5317, Accuracy: 100.00%\n",
      "Epoch [80/100], Loss: 0.5218, Accuracy: 100.00%\n",
      "Epoch [81/100], Loss: 0.5121, Accuracy: 100.00%\n",
      "Epoch [82/100], Loss: 0.5026, Accuracy: 100.00%\n",
      "Epoch [83/100], Loss: 0.4934, Accuracy: 100.00%\n",
      "Epoch [84/100], Loss: 0.4844, Accuracy: 100.00%\n",
      "Epoch [85/100], Loss: 0.4756, Accuracy: 100.00%\n",
      "Epoch [86/100], Loss: 0.4670, Accuracy: 100.00%\n",
      "Epoch [87/100], Loss: 0.4586, Accuracy: 100.00%\n",
      "Epoch [88/100], Loss: 0.4504, Accuracy: 100.00%\n",
      "Epoch [89/100], Loss: 0.4424, Accuracy: 100.00%\n",
      "Epoch [90/100], Loss: 0.4345, Accuracy: 100.00%\n",
      "Epoch [91/100], Loss: 0.4269, Accuracy: 100.00%\n",
      "Epoch [92/100], Loss: 0.4195, Accuracy: 100.00%\n",
      "Epoch [93/100], Loss: 0.4122, Accuracy: 100.00%\n",
      "Epoch [94/100], Loss: 0.4051, Accuracy: 100.00%\n",
      "Epoch [95/100], Loss: 0.3982, Accuracy: 100.00%\n",
      "Epoch [96/100], Loss: 0.3914, Accuracy: 100.00%\n",
      "Epoch [97/100], Loss: 0.3848, Accuracy: 100.00%\n",
      "Epoch [98/100], Loss: 0.3783, Accuracy: 100.00%\n",
      "Epoch [99/100], Loss: 0.3720, Accuracy: 100.00%\n",
      "Epoch [100/100], Loss: 0.3658, Accuracy: 100.00%\n"
     ]
    }
   ],
   "source": [
    "import torch\n",
    "import torch.nn as nn\n",
    "from torch.optim import SGD\n",
    "\n",
    "# Model 클래스 정의\n",
    "class Model(nn.Module):\n",
    "    def __init__(self, input_size, hidden_size, output_size):\n",
    "        super(Model, self).__init__()\n",
    "        self.fc1 = nn.Linear(input_size, hidden_size)  # 입력층 -> 은닉층\n",
    "        self.fc2 = nn.Linear(hidden_size, output_size)  # 은닉층 -> 출력층\n",
    "    \n",
    "    def forward(self, x):\n",
    "        x = x.view(x.size(0), -1)  # 28x28 이미지 -> 1차원 벡터로 변환\n",
    "        x = self.fc1(x)  # 첫 번째 레이어 적용\n",
    "        x = torch.relu(x)  # ReLU 활성화 함수\n",
    "        x = self.fc2(x)  # 두 번째 레이어 적용\n",
    "        return x\n",
    "\n",
    "# 모델 초기화\n",
    "input_size = 28 * 28  # MNIST 이미지 크기\n",
    "hidden_size = 1024  # 은닉층 크기\n",
    "output_size = 10  # MNIST 클래스 수\n",
    "\n",
    "model = Model(input_size, hidden_size, output_size)\n",
    "\n",
    "# 손실 함수 및 옵티마이저 정의\n",
    "\n",
    "criterion = nn.CrossEntropyLoss()  # Cross-Entropy 손실 함수\n",
    "optimizer = SGD(model.parameters(), lr=0.01)  # SGD 옵티마이저\n",
    "\n",
    "# 학습 데이터 및 라벨 예시 (임의로 생성된 데이터)\n",
    "data = torch.randn(64, 1, 28, 28)  # 배치 크기 64, 28x28 이미지\n",
    "target = torch.randint(0, 10, (64,))  # 0~9 사이의 정수로 된 라벨 (64개의 샘플)\n",
    "\n",
    "# 학습 과정\n",
    "num_epochs = 100  # 학습 반복 횟수\n",
    "\n",
    "for epoch in range(num_epochs):\n",
    "    # Forward 패스: 모델 출력 계산\n",
    "    output = model(data)\n",
    "    \n",
    "    # 손실 계산\n",
    "    loss = criterion(output, target)\n",
    "    \n",
    "    # 모델 학습 과정\n",
    "    optimizer.zero_grad()  # 기존의 그라디언트를 초기화\n",
    "    loss.backward()  # 손실 함수에 대한 그라디언트 계산\n",
    "    optimizer.step()  # 모델 매개변수 업데이트\n",
    "    \n",
    "    # 예측 정확도 계산\n",
    "    _, predicted = torch.max(output, 1)  # 가장 높은 값의 인덱스를 예측 값으로 선택\n",
    "    correct = (predicted == target).sum().item()  # 맞춘 개수\n",
    "    accuracy = correct / target.size(0)  # 정확도 계산\n",
    "    \n",
    "    # 에포크마다 손실과 정확도 출력\n",
    "    print(f'Epoch [{epoch+1}/{num_epochs}], Loss: {loss.item():.4f}, Accuracy: {accuracy * 100:.2f}%')\n"
   ]
  },
  {
   "cell_type": "code",
   "execution_count": 7,
   "metadata": {},
   "outputs": [],
   "source": [
    "import torch\n",
    "import torch.nn as nn\n",
    "from torch.optim import SGD\n",
    "\n",
    "# Model 클래스 정의\n",
    "class Model(nn.Module):\n",
    "    def __init__(self, input_size, hidden_size, output_size):\n",
    "        super(Model, self).__init__()\n",
    "        self.fc1 = nn.Linear(input_size, hidden_size)  # 입력층 -> 은닉층\n",
    "        self.fc2 = nn.Linear(hidden_size, output_size)  # 은닉층 -> 출력층\n",
    "    \n",
    "    def forward(self, x):\n",
    "        x = x.view(x.size(0), -1)  # 28x28 이미지 -> 1차원 벡터로 변환\n",
    "        x = self.fc1(x)  # 첫 번째 레이어 적용\n",
    "        x = torch.relu(x)  # ReLU 활성화 함수\n",
    "        x = self.fc2(x)  # 두 번째 레이어 적용\n",
    "        return x\n",
    "\n",
    "# 모델 초기화\n",
    "input_size = 28 * 28  # MNIST 이미지 크기\n",
    "hidden_size = 1024  # 은닉층 크기\n",
    "output_size = 10  # MNIST 클래스 수\n",
    "\n",
    "model = Model(input_size, hidden_size, output_size)"
   ]
  },
  {
   "cell_type": "code",
   "execution_count": 8,
   "metadata": {},
   "outputs": [],
   "source": [
    "from torch.optim import SGD\n",
    "# 옵티마이저 설정\n",
    "lr = 0.001\n",
    "criterion = nn.CrossEntropyLoss() \n",
    "\n",
    "optimizer = SGD(model.parameters(), lr=lr)"
   ]
  },
  {
   "cell_type": "code",
   "execution_count": 9,
   "metadata": {},
   "outputs": [],
   "source": [
    "\n",
    "train_accuracies = []\n",
    "test_accuracies = []"
   ]
  },
  {
   "cell_type": "code",
   "execution_count": 10,
   "metadata": {},
   "outputs": [],
   "source": [
    "def accuracy(model, dataloader):\n",
    "    correct = 0\n",
    "    total = 0\n",
    "    model.eval()  # 평가 모드로 설정\n",
    "    \n",
    "    with torch.no_grad():  # 추론 시에는 기울기 계산을 하지 않음\n",
    "        for data in dataloader:\n",
    "            inputs, labels = data\n",
    "            inputs, labels = inputs.to('cpu'), labels.to('cpu')\n",
    "\n",
    "            outputs = model(inputs)\n",
    "            \n",
    "            # outputs에서 가장 높은 값을 가진 클래스 선택\n",
    "            _, predicted = torch.max(outputs, 1)\n",
    "            total += labels.size(0)\n",
    "            correct += (predicted == labels).sum().item()\n",
    "\n",
    "    return correct / total  # 정확도 반환"
   ]
  },
  {
   "cell_type": "code",
   "execution_count": 11,
   "metadata": {},
   "outputs": [
    {
     "name": "stdout",
     "output_type": "stream",
     "text": [
      "Epoch   0 | Loss: 286.4593 | Train Acc: 0.1870 | Test Acc: 0.1980\n",
      "Epoch   1 | Loss: 281.5057 | Train Acc: 0.2934 | Test Acc: 0.3100\n",
      "Epoch   2 | Loss: 276.6679 | Train Acc: 0.4293 | Test Acc: 0.4285\n",
      "Epoch   3 | Loss: 271.8606 | Train Acc: 0.5353 | Test Acc: 0.5345\n",
      "Epoch   4 | Loss: 267.0199 | Train Acc: 0.6056 | Test Acc: 0.6065\n",
      "Epoch   5 | Loss: 262.1021 | Train Acc: 0.6489 | Test Acc: 0.6545\n",
      "Epoch   6 | Loss: 257.0732 | Train Acc: 0.6791 | Test Acc: 0.6900\n",
      "Epoch   7 | Loss: 251.9114 | Train Acc: 0.6954 | Test Acc: 0.7140\n",
      "Epoch   8 | Loss: 246.5973 | Train Acc: 0.7114 | Test Acc: 0.7375\n",
      "Epoch   9 | Loss: 241.1319 | Train Acc: 0.7228 | Test Acc: 0.7515\n",
      "Epoch  10 | Loss: 235.5184 | Train Acc: 0.7309 | Test Acc: 0.7630\n",
      "Epoch  11 | Loss: 229.7701 | Train Acc: 0.7370 | Test Acc: 0.7690\n",
      "Epoch  12 | Loss: 223.9070 | Train Acc: 0.7426 | Test Acc: 0.7785\n",
      "Epoch  13 | Loss: 217.9522 | Train Acc: 0.7451 | Test Acc: 0.7845\n",
      "Epoch  14 | Loss: 211.9423 | Train Acc: 0.7499 | Test Acc: 0.7930\n",
      "Epoch  15 | Loss: 205.9107 | Train Acc: 0.7539 | Test Acc: 0.7980\n",
      "Epoch  16 | Loss: 199.8905 | Train Acc: 0.7572 | Test Acc: 0.8005\n",
      "Epoch  17 | Loss: 193.9230 | Train Acc: 0.7631 | Test Acc: 0.8075\n",
      "Epoch  18 | Loss: 188.0435 | Train Acc: 0.7691 | Test Acc: 0.8145\n",
      "Epoch  19 | Loss: 182.2800 | Train Acc: 0.7748 | Test Acc: 0.8195\n",
      "Epoch  20 | Loss: 176.6647 | Train Acc: 0.7792 | Test Acc: 0.8220\n",
      "Epoch  21 | Loss: 171.2192 | Train Acc: 0.7840 | Test Acc: 0.8275\n",
      "Epoch  22 | Loss: 165.9578 | Train Acc: 0.7891 | Test Acc: 0.8310\n",
      "Epoch  23 | Loss: 160.9053 | Train Acc: 0.7920 | Test Acc: 0.8345\n",
      "Epoch  24 | Loss: 156.0566 | Train Acc: 0.7974 | Test Acc: 0.8350\n",
      "Epoch  25 | Loss: 151.4340 | Train Acc: 0.8006 | Test Acc: 0.8365\n",
      "Epoch  26 | Loss: 147.0252 | Train Acc: 0.8031 | Test Acc: 0.8410\n",
      "Epoch  27 | Loss: 142.8335 | Train Acc: 0.8067 | Test Acc: 0.8450\n",
      "Epoch  28 | Loss: 138.8535 | Train Acc: 0.8095 | Test Acc: 0.8465\n",
      "Epoch  29 | Loss: 135.0782 | Train Acc: 0.8126 | Test Acc: 0.8490\n",
      "Epoch  30 | Loss: 131.5060 | Train Acc: 0.8146 | Test Acc: 0.8505\n",
      "Epoch  31 | Loss: 128.1212 | Train Acc: 0.8181 | Test Acc: 0.8530\n",
      "Epoch  32 | Loss: 124.9157 | Train Acc: 0.8201 | Test Acc: 0.8555\n",
      "Epoch  33 | Loss: 121.8829 | Train Acc: 0.8229 | Test Acc: 0.8540\n",
      "Epoch  34 | Loss: 119.0131 | Train Acc: 0.8254 | Test Acc: 0.8550\n",
      "Epoch  35 | Loss: 116.2974 | Train Acc: 0.8269 | Test Acc: 0.8560\n",
      "Epoch  36 | Loss: 113.7233 | Train Acc: 0.8285 | Test Acc: 0.8560\n",
      "Epoch  37 | Loss: 111.2834 | Train Acc: 0.8297 | Test Acc: 0.8580\n",
      "Epoch  38 | Loss: 108.9720 | Train Acc: 0.8319 | Test Acc: 0.8595\n",
      "Epoch  39 | Loss: 106.7773 | Train Acc: 0.8331 | Test Acc: 0.8585\n",
      "Epoch  40 | Loss: 104.6964 | Train Acc: 0.8346 | Test Acc: 0.8605\n",
      "Epoch  41 | Loss: 102.7175 | Train Acc: 0.8366 | Test Acc: 0.8605\n",
      "Epoch  42 | Loss: 100.8397 | Train Acc: 0.8386 | Test Acc: 0.8625\n",
      "Epoch  43 | Loss: 99.0471 | Train Acc: 0.8394 | Test Acc: 0.8625\n",
      "Epoch  44 | Loss: 97.3418 | Train Acc: 0.8409 | Test Acc: 0.8650\n",
      "Epoch  45 | Loss: 95.7185 | Train Acc: 0.8430 | Test Acc: 0.8665\n",
      "Epoch  46 | Loss: 94.1683 | Train Acc: 0.8444 | Test Acc: 0.8680\n",
      "Epoch  47 | Loss: 92.6900 | Train Acc: 0.8454 | Test Acc: 0.8685\n",
      "Epoch  48 | Loss: 91.2740 | Train Acc: 0.8466 | Test Acc: 0.8695\n",
      "Epoch  49 | Loss: 89.9210 | Train Acc: 0.8491 | Test Acc: 0.8695\n",
      "Epoch  50 | Loss: 88.6280 | Train Acc: 0.8492 | Test Acc: 0.8710\n",
      "Epoch  51 | Loss: 87.3840 | Train Acc: 0.8508 | Test Acc: 0.8710\n",
      "Epoch  52 | Loss: 86.1976 | Train Acc: 0.8524 | Test Acc: 0.8720\n",
      "Epoch  53 | Loss: 85.0564 | Train Acc: 0.8529 | Test Acc: 0.8725\n",
      "Epoch  54 | Loss: 83.9623 | Train Acc: 0.8529 | Test Acc: 0.8740\n",
      "Epoch  55 | Loss: 82.9074 | Train Acc: 0.8546 | Test Acc: 0.8760\n",
      "Epoch  56 | Loss: 81.8985 | Train Acc: 0.8559 | Test Acc: 0.8765\n",
      "Epoch  57 | Loss: 80.9249 | Train Acc: 0.8570 | Test Acc: 0.8770\n",
      "Epoch  58 | Loss: 79.9836 | Train Acc: 0.8579 | Test Acc: 0.8780\n",
      "Epoch  59 | Loss: 79.0856 | Train Acc: 0.8585 | Test Acc: 0.8790\n",
      "Epoch  60 | Loss: 78.2131 | Train Acc: 0.8599 | Test Acc: 0.8795\n",
      "Epoch  61 | Loss: 77.3729 | Train Acc: 0.8605 | Test Acc: 0.8810\n",
      "Epoch  62 | Loss: 76.5641 | Train Acc: 0.8620 | Test Acc: 0.8825\n",
      "Epoch  63 | Loss: 75.7792 | Train Acc: 0.8629 | Test Acc: 0.8830\n",
      "Epoch  64 | Loss: 75.0211 | Train Acc: 0.8639 | Test Acc: 0.8835\n",
      "Epoch  65 | Loss: 74.2909 | Train Acc: 0.8646 | Test Acc: 0.8850\n",
      "Epoch  66 | Loss: 73.5803 | Train Acc: 0.8651 | Test Acc: 0.8875\n",
      "Epoch  67 | Loss: 72.8924 | Train Acc: 0.8660 | Test Acc: 0.8885\n",
      "Epoch  68 | Loss: 72.2322 | Train Acc: 0.8662 | Test Acc: 0.8900\n",
      "Epoch  69 | Loss: 71.5859 | Train Acc: 0.8676 | Test Acc: 0.8900\n",
      "Epoch  70 | Loss: 70.9584 | Train Acc: 0.8679 | Test Acc: 0.8900\n",
      "Epoch  71 | Loss: 70.3560 | Train Acc: 0.8676 | Test Acc: 0.8920\n",
      "Epoch  72 | Loss: 69.7670 | Train Acc: 0.8685 | Test Acc: 0.8925\n",
      "Epoch  73 | Loss: 69.1920 | Train Acc: 0.8691 | Test Acc: 0.8925\n",
      "Epoch  74 | Loss: 68.6366 | Train Acc: 0.8694 | Test Acc: 0.8940\n",
      "Epoch  75 | Loss: 68.0994 | Train Acc: 0.8708 | Test Acc: 0.8950\n",
      "Epoch  76 | Loss: 67.5785 | Train Acc: 0.8714 | Test Acc: 0.8950\n",
      "Epoch  77 | Loss: 67.0653 | Train Acc: 0.8716 | Test Acc: 0.8965\n",
      "Epoch  78 | Loss: 66.5673 | Train Acc: 0.8720 | Test Acc: 0.8965\n",
      "Epoch  79 | Loss: 66.0828 | Train Acc: 0.8725 | Test Acc: 0.8975\n",
      "Epoch  80 | Loss: 65.6138 | Train Acc: 0.8735 | Test Acc: 0.8980\n",
      "Epoch  81 | Loss: 65.1523 | Train Acc: 0.8740 | Test Acc: 0.8985\n",
      "Epoch  82 | Loss: 64.7055 | Train Acc: 0.8754 | Test Acc: 0.8990\n",
      "Epoch  83 | Loss: 64.2681 | Train Acc: 0.8752 | Test Acc: 0.8990\n",
      "Epoch  84 | Loss: 63.8422 | Train Acc: 0.8764 | Test Acc: 0.8990\n",
      "Epoch  85 | Loss: 63.4283 | Train Acc: 0.8769 | Test Acc: 0.8995\n",
      "Epoch  86 | Loss: 63.0216 | Train Acc: 0.8769 | Test Acc: 0.9000\n",
      "Epoch  87 | Loss: 62.6242 | Train Acc: 0.8780 | Test Acc: 0.9005\n",
      "Epoch  88 | Loss: 62.2390 | Train Acc: 0.8782 | Test Acc: 0.9010\n",
      "Epoch  89 | Loss: 61.8589 | Train Acc: 0.8789 | Test Acc: 0.9015\n",
      "Epoch  90 | Loss: 61.4894 | Train Acc: 0.8792 | Test Acc: 0.9030\n",
      "Epoch  91 | Loss: 61.1285 | Train Acc: 0.8795 | Test Acc: 0.9040\n",
      "Epoch  92 | Loss: 60.7762 | Train Acc: 0.8794 | Test Acc: 0.9045\n",
      "Epoch  93 | Loss: 60.4308 | Train Acc: 0.8799 | Test Acc: 0.9050\n",
      "Epoch  94 | Loss: 60.0949 | Train Acc: 0.8800 | Test Acc: 0.9055\n",
      "Epoch  95 | Loss: 59.7591 | Train Acc: 0.8808 | Test Acc: 0.9050\n",
      "Epoch  96 | Loss: 59.4368 | Train Acc: 0.8805 | Test Acc: 0.9060\n",
      "Epoch  97 | Loss: 59.1176 | Train Acc: 0.8811 | Test Acc: 0.9065\n",
      "Epoch  98 | Loss: 58.8083 | Train Acc: 0.8816 | Test Acc: 0.9065\n",
      "Epoch  99 | Loss: 58.5008 | Train Acc: 0.8820 | Test Acc: 0.9065\n"
     ]
    }
   ],
   "source": [
    "n_epochs = 100\n",
    "for epoch in range(n_epochs):\n",
    "    model.train()  # 학습 모드로 설정\n",
    "    \n",
    "    total_loss = 0.\n",
    "    \n",
    "    for data in trainloader:\n",
    "        optimizer.zero_grad()\n",
    "\n",
    "        inputs, labels = data\n",
    "        inputs, labels = inputs.to('cpu'), labels.to('cpu')\n",
    "\n",
    "        # Forward pass\n",
    "        preds = model(inputs)\n",
    "\n",
    "        # Cross-Entropy 또는 MSE 손실 함수 사용\n",
    "        loss = criterion(preds, labels)\n",
    "\n",
    "        # Backward pass 및 매개변수 업데이트\n",
    "        loss.backward()\n",
    "        optimizer.step()\n",
    "\n",
    "        total_loss += loss.item()\n",
    "    \n",
    "    # 정확도 계산\n",
    "    train_acc = accuracy(model, trainloader)\n",
    "    test_acc = accuracy(model, testloader)\n",
    "\n",
    "    train_accuracies.append(train_acc)\n",
    "    test_accuracies.append(test_acc)\n",
    "\n",
    "    print(f\"Epoch {epoch:3d} | Loss: {total_loss:.4f} | Train Acc: {train_acc:.4f} | Test Acc: {test_acc:.4f}\")\n",
    "\n"
   ]
  },
  {
   "cell_type": "code",
   "execution_count": 12,
   "metadata": {},
   "outputs": [
    {
     "data": {
      "image/png": "[encoded data removed]",
      "text/plain": [
       "<Figure size 640x480 with 1 Axes>"
      ]
     },
     "metadata": {},
     "output_type": "display_data"
    }
   ],
   "source": [
    "import numpy as np\n",
    "import matplotlib.pyplot as plt  # matplotlib.pyplot 임포트 추가\n",
    "\n",
    "def plot_acc(train_accs, test_accs, label1='train', label2='test'):\n",
    "    x = np.arange(len(train_accs))\n",
    "\n",
    "    plt.plot(x, train_accs, label=label1)\n",
    "    plt.plot(x, test_accs, label=label2)\n",
    "    plt.xlabel('Epoch')  # x축 레이블 추가\n",
    "    plt.ylabel('Accuracy')  # y축 레이블 추가\n",
    "    plt.title('Training and Testing Accuracy')  # 제목 추가\n",
    "    plt.legend()\n",
    "    plt.show()\n",
    "\n",
    "# plot_acc 함수 호출\n",
    "plot_acc(train_accuracies, test_accuracies)"
   ]
  },
  {
   "cell_type": "code",
   "execution_count": null,
   "metadata": {},
   "outputs": [],
   "source": []
  }
 ],
 "metadata": {
  "kernelspec": {
   "display_name": "Python 3",
   "language": "python",
   "name": "python3"
  },
  "language_info": {
   "codemirror_mode": {
    "name": "ipython",
    "version": 3
   },
   "file_extension": ".py",
   "mimetype": "text/x-python",
   "name": "python",
   "nbconvert_exporter": "python",
   "pygments_lexer": "ipython3",
   "version": "3.12.5"
  }
 },
 "nbformat": 4,
 "nbformat_minor": 2
}
